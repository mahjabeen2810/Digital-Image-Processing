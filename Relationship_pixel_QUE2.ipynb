{
 "cells": [
  {
   "cell_type": "code",
   "execution_count": 6,
   "id": "590d9d01",
   "metadata": {},
   "outputs": [
    {
     "name": "stdout",
     "output_type": "stream",
     "text": [
      "[[17 18  3  5 10]\n",
      " [ 5 16  8  9 11]\n",
      " [ 8 12 14  3  2]\n",
      " [18 19  4  6  5]\n",
      " [12 18  7  3 22]]\n",
      "Enter the row (0 to 4) : 2\n",
      "Enter the column (0 to 4) : 1\n",
      "\n",
      "Value :  12\n",
      "N4 neighbours of 12 :  [19, 16, 14, 8]\n",
      "N8 neighbours of 12 :  [19, 16, 14, 8, 4, 18, 8, 5]\n",
      "Diagonal Neighbours of 12 :  [4, 18, 8, 5]\n"
     ]
    }
   ],
   "source": [
    "import numpy as np\n",
    "\n",
    "a=np.array([[17,18,3,5,10],\n",
    "            [5,16,8,9,11],\n",
    "            [8,12,14,3,2],\n",
    "            [18,19,4,6,5],\n",
    "            [12,18,7,3,22]])\n",
    "print(a)\n",
    "\n",
    "b=int(input(\"Enter the row (0 to 4) : \"))\n",
    "c=int(input(\"Enter the column (0 to 4) : \"))\n",
    "print(\"\\nValue : \",a[b,c])\n",
    "\n",
    "n4=[]\n",
    "if b+1<5:\n",
    "    n4.append(a[b+1,c])\n",
    "if b-1>=0:\n",
    "    n4.append(a[b-1,c])\n",
    "if c+1<5:\n",
    "    n4.append(a[b,c+1])\n",
    "if c-1>=0:\n",
    "    n4.append(a[b,c-1])\n",
    "print(f\"N4 neighbours of {a[b,c]} : \",n4)\n",
    "\n",
    "n8=[]\n",
    "if b+1<5:\n",
    "    n8.append(a[b+1,c])\n",
    "if b-1>=0:\n",
    "    n8.append(a[b-1,c])\n",
    "if c+1<5:\n",
    "    n8.append(a[b,c+1])\n",
    "if c-1>=0:\n",
    "    n8.append(a[b,c-1])\n",
    "if b+1<5 and c+1<5:\n",
    "    n8.append(a[b+1,c+1])\n",
    "if b+1<5 and c-1>=0:\n",
    "    n8.append(a[b+1,c-1])\n",
    "if b-1>=0 and c+1<5:\n",
    "    n8.append(a[b-1,c+1])\n",
    "if b-1>=0 and c-1>=0:\n",
    "    n8.append(a[b-1,c-1])\n",
    "print(f\"N8 neighbours of {a[b,c]} : \",n8)\n",
    "\n",
    "nd=[]\n",
    "if b+1<5 and c+1<5:\n",
    "    nd.append(a[b+1,c+1])\n",
    "if b+1<5 and c-1>=0:\n",
    "    nd.append(a[b+1,c-1])\n",
    "if b-1>=0 and c+1<5:\n",
    "    nd.append(a[b-1,c+1])\n",
    "if b-1>=0 and c-1>=0:\n",
    "    nd.append(a[b-1,c-1])\n",
    "print(f\"Diagonal Neighbours of {a[b,c]} : \",nd)"
   ]
  },
  {
   "cell_type": "markdown",
   "id": "186fd8a6",
   "metadata": {},
   "source": [
    "MY Method"
   ]
  },
  {
   "cell_type": "code",
   "execution_count": 8,
   "id": "1406b258",
   "metadata": {},
   "outputs": [
    {
     "name": "stdout",
     "output_type": "stream",
     "text": [
      "[[17 18  3  5 10]\n",
      " [ 5 16  8  9 11]\n",
      " [ 8 12 14  3  2]\n",
      " [18 19  4  6  5]\n",
      " [12 18  7  3 22]]\n",
      "Enter the row (0 to 4) : 2\n",
      "Enter the column (0 to 4) : 1\n",
      "\n",
      "Value :  12\n",
      "N4 neighbours of 12 :  [19, 16, 14, 8]\n",
      "Diagonal Neighbours of 12 :  [4, 18, 8, 5]\n",
      "N8 neighbours of 12 :  [19, 16, 14, 8, 4, 18, 8, 5]\n"
     ]
    }
   ],
   "source": [
    "import numpy as np\n",
    "\n",
    "a=np.array([[17,18,3,5,10],\n",
    "            [5,16,8,9,11],\n",
    "            [8,12,14,3,2],\n",
    "            [18,19,4,6,5],\n",
    "            [12,18,7,3,22]])\n",
    "print(a)\n",
    "\n",
    "b=int(input(\"Enter the row (0 to 4) : \"))\n",
    "c=int(input(\"Enter the column (0 to 4) : \"))\n",
    "print(\"\\nValue : \",a[b,c])\n",
    "\n",
    "n4=[]\n",
    "if b+1<5:\n",
    "    n4.append(a[b+1,c])\n",
    "if b-1>=0:\n",
    "    n4.append(a[b-1,c])\n",
    "if c+1<5:\n",
    "    n4.append(a[b,c+1])\n",
    "if c-1>=0:\n",
    "    n4.append(a[b,c-1])\n",
    "print(f\"N4 neighbours of {a[b,c]} : \",n4)\n",
    "\n",
    "nd=[]\n",
    "if b+1<5 and c+1<5:\n",
    "    nd.append(a[b+1,c+1])\n",
    "if b+1<5 and c-1>=0:\n",
    "    nd.append(a[b+1,c-1])\n",
    "if b-1>=0 and c+1<5:\n",
    "    nd.append(a[b-1,c+1])\n",
    "if b-1>=0 and c-1>=0:\n",
    "    nd.append(a[b-1,c-1])\n",
    "print(f\"Diagonal Neighbours of {a[b,c]} : \",nd)\n",
    "\n",
    "n8=[]\n",
    "n8=n4+nd\n",
    "print(f\"N8 neighbours of {a[b,c]} : \",n8)"
   ]
  },
  {
   "cell_type": "code",
   "execution_count": null,
   "id": "e1829722",
   "metadata": {},
   "outputs": [],
   "source": []
  }
 ],
 "metadata": {
  "kernelspec": {
   "display_name": "Python 3 (ipykernel)",
   "language": "python",
   "name": "python3"
  },
  "language_info": {
   "codemirror_mode": {
    "name": "ipython",
    "version": 3
   },
   "file_extension": ".py",
   "mimetype": "text/x-python",
   "name": "python",
   "nbconvert_exporter": "python",
   "pygments_lexer": "ipython3",
   "version": "3.9.13"
  }
 },
 "nbformat": 4,
 "nbformat_minor": 5
}
